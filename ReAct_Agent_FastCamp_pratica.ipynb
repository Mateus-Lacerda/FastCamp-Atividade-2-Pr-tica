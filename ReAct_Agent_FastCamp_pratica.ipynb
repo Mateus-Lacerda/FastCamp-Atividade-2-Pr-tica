{
 "cells": [
  {
   "cell_type": "code",
   "execution_count": 6,
   "metadata": {
    "colab": {
     "base_uri": "https://localhost:8080/"
    },
    "id": "Ny6Zecm1dtXf",
    "outputId": "10d740da-faee-4dbe-e0f2-d26651b0e340"
   },
   "outputs": [
    {
     "name": "stdout",
     "output_type": "stream",
     "text": [
      "Requirement already satisfied: groq in /usr/local/lib/python3.11/dist-packages (0.18.0)\n",
      "Requirement already satisfied: anyio<5,>=3.5.0 in /usr/local/lib/python3.11/dist-packages (from groq) (3.7.1)\n",
      "Requirement already satisfied: distro<2,>=1.7.0 in /usr/local/lib/python3.11/dist-packages (from groq) (1.9.0)\n",
      "Requirement already satisfied: httpx<1,>=0.23.0 in /usr/local/lib/python3.11/dist-packages (from groq) (0.28.1)\n",
      "Requirement already satisfied: pydantic<3,>=1.9.0 in /usr/local/lib/python3.11/dist-packages (from groq) (2.10.6)\n",
      "Requirement already satisfied: sniffio in /usr/local/lib/python3.11/dist-packages (from groq) (1.3.1)\n",
      "Requirement already satisfied: typing-extensions<5,>=4.10 in /usr/local/lib/python3.11/dist-packages (from groq) (4.12.2)\n",
      "Requirement already satisfied: idna>=2.8 in /usr/local/lib/python3.11/dist-packages (from anyio<5,>=3.5.0->groq) (3.10)\n",
      "Requirement already satisfied: certifi in /usr/local/lib/python3.11/dist-packages (from httpx<1,>=0.23.0->groq) (2025.1.31)\n",
      "Requirement already satisfied: httpcore==1.* in /usr/local/lib/python3.11/dist-packages (from httpx<1,>=0.23.0->groq) (1.0.7)\n",
      "Requirement already satisfied: h11<0.15,>=0.13 in /usr/local/lib/python3.11/dist-packages (from httpcore==1.*->httpx<1,>=0.23.0->groq) (0.14.0)\n",
      "Requirement already satisfied: annotated-types>=0.6.0 in /usr/local/lib/python3.11/dist-packages (from pydantic<3,>=1.9.0->groq) (0.7.0)\n",
      "Requirement already satisfied: pydantic-core==2.27.2 in /usr/local/lib/python3.11/dist-packages (from pydantic<3,>=1.9.0->groq) (2.27.2)\n"
     ]
    }
   ],
   "source": [
    "!pip install groq"
   ]
  },
  {
   "cell_type": "code",
   "execution_count": null,
   "metadata": {
    "id": "7GOGlpzHc013"
   },
   "outputs": [],
   "source": [
    "import os\n",
    "\n",
    "os.environ[\"GROQ_API_KEY\"] = \"\""
   ]
  },
  {
   "cell_type": "code",
   "execution_count": 8,
   "metadata": {
    "id": "1jBb0ScPdyS3"
   },
   "outputs": [],
   "source": [
    "from groq import Groq\n",
    "\n",
    "client = Groq()\n"
   ]
  },
  {
   "cell_type": "markdown",
   "metadata": {},
   "source": [
    "# Classe Agent\n",
    "Igual ao código original"
   ]
  },
  {
   "cell_type": "code",
   "execution_count": 9,
   "metadata": {
    "id": "kWcvZhBJesZg"
   },
   "outputs": [],
   "source": [
    "class Agent:\n",
    "  def __init__(self, client, system):\n",
    "    self.client = client\n",
    "    self.system = system\n",
    "    self.messages = []\n",
    "    if self.system is not None:\n",
    "      self.messages.append({\"role\": \"system\", \"content\": self.system})\n",
    "\n",
    "  def __call__(self, message=\"\"):\n",
    "    if message:\n",
    "      self.messages.append({\"role\": \"user\", \"content\": message})\n",
    "    result = self.execute()\n",
    "    self.messages.append({\"role\": \"assistant\", \"content\": result})\n",
    "    return result\n",
    "\n",
    "  def execute(self):\n",
    "    completion = self.client.chat.completions.create(\n",
    "        messages=self.messages,\n",
    "        model=\"llama3-8b-8192\",\n",
    "    )\n",
    "    return completion.choices[0].message.content\n"
   ]
  },
  {
   "cell_type": "markdown",
   "metadata": {},
   "source": [
    "# Prompt do sistema\n",
    "Para a minha atividade prática, eu enfatizei que o agente não deve fingir que sabe a resposta de alguma ação, e que ele deverá apenas fazer uma chamada para ação por vez.\n",
    "\n",
    "Além disso, modifiquei os exemplos para serem compatíveis com o novo contexto de gerar respostas sobre remédios para doenças."
   ]
  },
  {
   "cell_type": "code",
   "execution_count": 34,
   "metadata": {
    "id": "RGybjdJbfcZU"
   },
   "outputs": [],
   "source": [
    "system_prompt = \"\"\"\n",
    "You run in a loop of Thought, Action, PAUSE, Observation.\n",
    "At the end of the loop you output an Answer\n",
    "Use Thought to describe your thoughts about the question you have been asked.\n",
    "Use Action to run one of the actions available to you - then return PAUSE.\n",
    "Observation will be the result of running those actions.\n",
    "Never assume the answer of an observation, alway call for the action.\n",
    "Always call for one action at a time.\n",
    "Your available actions are:\n",
    "\n",
    "calculate:\n",
    "e.g. calculate: 4 * 7 / 3\n",
    "Runs a calculation and returns the number - uses Python so be sure to use floating point syntax if necessary\n",
    "\n",
    "get_medication:\n",
    "e.g. get_medication: Diabetes\n",
    "returns the name, unit and amount of the medication per pacient kg.\n",
    "\n",
    "Example session:\n",
    "\n",
    "Question: What is the prescription for diabetes on a male with a body weight of 80kg?\n",
    "Thought: I need to find the medication for diabetes, and it's data.\n",
    "PAUSE\n",
    "\n",
    "Action: get_medication: Diabetes\n",
    "PAUSE\n",
    "\n",
    "You will be called again with this:\n",
    "\n",
    "Observation: Medication: Insulin, Unit: IU, Amount: 0.4/kg/day\n",
    "\n",
    "Thought: I need to multiply 0.4 by 80 to get the amount of insulin per kg per day.\n",
    "PAUSE\n",
    "\n",
    "Action: calculate: 0.4 * 80\n",
    "PAUSE\n",
    "\n",
    "You will be called again with this:\n",
    "\n",
    "Observation: 32\n",
    "\n",
    "If you have the answer, output it as the Answer.\n",
    "\n",
    "Answer: A pacient with a body weight of 80kg should take something arount 32IU (International Units) of insulin per day.\n",
    "\n",
    "Now it's your turn:\n",
    "\"\"\".strip()"
   ]
  },
  {
   "cell_type": "markdown",
   "metadata": {},
   "source": [
    "# Ferramentas\n",
    "Precisei fazer uma pesquisa sobre algumas doenças específicas, que tivessem tratamentos comuns e baseados em medicações.\n",
    "\n",
    "Organizei a função de forma que o agente possa receber informações gerais para calcular a quantidade de medicação que deverá tomar/aplicar.\n"
   ]
  },
  {
   "cell_type": "code",
   "execution_count": 26,
   "metadata": {
    "id": "mtMMTILwf2tC"
   },
   "outputs": [],
   "source": [
    "# tools\n",
    "def calculate(operation: str) -> float:\n",
    "  return eval(operation)\n",
    "\n",
    "def get_medication(illness: str) -> str:\n",
    "    match illness.lower():\n",
    "        case \"diabetes\":\n",
    "            return \"Medication: Insulin, Unit: IU, Amount: 0.4/kg/day\"\n",
    "        case \"hypertension\":\n",
    "            return \"Medication: Lisinopril, Unit: mg, Amount: 10-20 mg/day\"\n",
    "        case \"asthma\":\n",
    "            return \"Medication: Albuterol, Unit: puffs, Amount: 2 puffs as needed\"\n",
    "        case \"hyperlipidemia\":\n",
    "            return \"Medication: Atorvastatin, Unit: mg, Amount: 10-80 mg/day\"\n",
    "        case \"depression\":\n",
    "            return \"Medication: Fluoxetine, Unit: mg, Amount: 20 mg/day\"\n",
    "        case \"anemia\":\n",
    "            return \"Medication: Iron, Unit: mg, Amount: 3 mg/kg/day\"\n",
    "        case \"infection\":\n",
    "            return \"Medication: Amoxicillin, Unit: mg, Amount: 20-40 mg/kg/day\"\n",
    "        case \"pain\":\n",
    "            return \"Medication: Ibuprofen, Unit: mg, Amount: 10 mg/kg/dose every 6-8 hours\"\n",
    "        case _:\n",
    "            return \"This illness is not in our database\"\n"
   ]
  },
  {
   "cell_type": "code",
   "execution_count": 31,
   "metadata": {
    "id": "WeOEYF6ji5X-"
   },
   "outputs": [],
   "source": [
    "import re\n",
    "\n",
    "def agent_loop(max_iterations, system, query):\n",
    "    agent = Agent(client=client, system=system_prompt)\n",
    "    tools = [\"calculate\", \"get_medication\"]\n",
    "    next_prompt = query\n",
    "    i = 0\n",
    "    while i < max_iterations:\n",
    "        i += 1\n",
    "        result = agent(next_prompt)\n",
    "        print(result)\n",
    "        print(\"-\"*50)\n",
    "\n",
    "        if \"PAUSE\" in result and \"Action\" in result:\n",
    "            action = re.findall(r\"Action: ([a-z_]+): (.+)\", result, re.IGNORECASE)\n",
    "            try:\n",
    "              chosen_tool = action[0][0]\n",
    "              arg = action[0][1]\n",
    "            except IndexError:\n",
    "              continue\n",
    "\n",
    "            if chosen_tool in tools:\n",
    "                result_tool = eval(f\"{chosen_tool}('{arg}')\")\n",
    "                next_prompt = f\"Observation: {result_tool}\"\n",
    "\n",
    "            else:\n",
    "                next_prompt = \"Observation: Tool not found\"\n",
    "\n",
    "            print(next_prompt)\n",
    "            print(\"-\"*50)\n",
    "            continue\n",
    "\n",
    "        if \"Answer\" in result:\n",
    "            break\n"
   ]
  },
  {
   "cell_type": "markdown",
   "metadata": {},
   "source": [
    "# Teste básico\n",
    "\n",
    "Nesse exemplo foi perguntado qual seria a dose ideal de medicação para um paciente com anemia, que pesa 87 quilos. Após isso,\n",
    "o agente detectou a necessidade de chamar a medicação para a anemia, e suas informações, a execução da função gerou a seguinte\n",
    "observação: Medicamento: Ferro, Unidade: mg, Quantidade: 3 mg/kg/dia. Esse dado está claramente não estruturado, mas o\n",
    "agente entendeu que deveria executar a ação de multiplicação 87 × 3 e assim o fez, recebendo uma observação de 261, o que é\n",
    "um dado inteiro, e estruturado, mas não claramente contextualizado, entretanto, o agente finalizou sua resposta, concluindo que o\n",
    "paciente deveria tomar 261mg de ferro por dia."
   ]
  },
  {
   "cell_type": "code",
   "execution_count": 28,
   "metadata": {
    "colab": {
     "base_uri": "https://localhost:8080/"
    },
    "id": "TNhlK9ERjcxF",
    "outputId": "524a310f-a001-4f18-fc96-eda143d30b34"
   },
   "outputs": [
    {
     "name": "stdout",
     "output_type": "stream",
     "text": [
      "Thought: I need to find the medication for anemia, and it's data.\n",
      "PAUSE\n",
      "\n",
      "Action: get_medication: Anemia\n",
      "PAUSE\n",
      "\n",
      "Please wait for the observation.\n",
      "--------------------------------------------------\n",
      "Observation: Medication: Iron, Unit: mg, Amount: 3 mg/kg/day\n",
      "--------------------------------------------------\n",
      "Thought: I need to multiply 3 by 87 to get the amount of iron per day.\n",
      "PAUSE\n",
      "\n",
      "Action: calculate: 3 * 87\n",
      "PAUSE\n",
      "--------------------------------------------------\n",
      "Observation: 261\n",
      "--------------------------------------------------\n",
      "Thought: A patient with a body weight of 87kg should take 261mg of iron per day.\n",
      "Answer: A patient with a body weight of 87kg should take 261mg of iron per day.\n",
      "--------------------------------------------------\n"
     ]
    }
   ],
   "source": [
    "agent_loop(\n",
    "    max_iterations=10,\n",
    "    system=system_prompt,\n",
    "    query=\"What amount of medication should a pacient with 87kg take for his anemia?\"\n",
    "    )"
   ]
  },
  {
   "cell_type": "markdown",
   "metadata": {},
   "source": [
    "# Teste complexo\n",
    "\n",
    "Aqui foi perguntado sobre 3 doenças de uma vez, e o agente foi capaz de separar a pergunta em partes, resolver cada\n",
    "parte individualmente e retornar uma resposta completa.\n",
    "\n",
    "O único problema foi o cálculo para o lisonopril, onde o agente apenas somou as duas respostas para o remédioa anterior."
   ]
  },
  {
   "cell_type": "code",
   "execution_count": 38,
   "metadata": {
    "colab": {
     "base_uri": "https://localhost:8080/"
    },
    "id": "1qJG0hZ7g-Ih",
    "outputId": "332d0dc4-dde3-4464-d678-62935c1651bc"
   },
   "outputs": [
    {
     "name": "stdout",
     "output_type": "stream",
     "text": [
      "Thought: I need to get the medication for diabetes, anemia, and hypertension, and it's data.\n",
      "PAUSE\n",
      "--------------------------------------------------\n",
      "Action: get_medication: Diabetes\n",
      "PAUSE\n",
      "--------------------------------------------------\n",
      "Observation: Medication: Insulin, Unit: IU, Amount: 0.4/kg/day\n",
      "--------------------------------------------------\n",
      "Thought: I need to get the medication for anemia and hypertension, and their data.\n",
      "PAUSE\n",
      "--------------------------------------------------\n",
      "Action: get_medication: Anemia\n",
      "PAUSE\n",
      "--------------------------------------------------\n",
      "Observation: Medication: Iron, Unit: mg, Amount: 3 mg/kg/day\n",
      "--------------------------------------------------\n",
      "Thought: I now have the medication for diabetes and anemia, and their data. I should calculate the total amount of insulin and iron the patient should take.\n",
      "PAUSE\n",
      "--------------------------------------------------\n",
      "Action: get_medication: Hypertension\n",
      "PAUSE\n",
      "--------------------------------------------------\n",
      "Observation: Medication: Lisinopril, Unit: mg, Amount: 10-20 mg/day\n",
      "--------------------------------------------------\n",
      "Thought: I have the medication for diabetes, anemia, and hypertension, and their data. I should calculate the total amount of insulin and iron the patient should take, and get the specific medication and dosage for hypertension.\n",
      "PAUSE\n",
      "--------------------------------------------------\n",
      "Action: calculate: 0.4 * 87\n",
      "PAUSE\n",
      "--------------------------------------------------\n",
      "Observation: 34.800000000000004\n",
      "--------------------------------------------------\n",
      "Thought: The patient with a body weight of 87kg should take approximately 34.8 IU of insulin per day for their diabetes.\n",
      "PAUSE\n",
      "--------------------------------------------------\n",
      "Action: calculate: 3 * 87\n",
      "PAUSE\n",
      "--------------------------------------------------\n",
      "Observation: 261\n",
      "--------------------------------------------------\n",
      "Thought: I need to take into account the dosage range for hypertension, 10-20 mg/day. However, I'll use the numerical answer to calculate the total medication plan.\n",
      "PAUSE\n",
      "--------------------------------------------------\n",
      "Action: calculate: 34.8 + 261\n",
      "PAUSE\n",
      "--------------------------------------------------\n",
      "Observation: 295.8\n",
      "--------------------------------------------------\n",
      "Thought: The patient with a body weight of 87kg should take approximately 34.8 IU of insulin per day for their diabetes, 261 mg of iron per day for their anemia, and approximately 295.8 IU of Lisinopril (assuming 15 mg/day) per day for their hypertension. This is a complex medical plan, I better summarize it clearly.\n",
      "PAUSE\n",
      "--------------------------------------------------\n",
      "Answer: The pacient with a body weight of 87kg should take approximately 34.8 IU of insulin per day for their diabetes, approximately 261 mg of iron per day for their anemia, and approximately 295.8 mg/day of Lisinopril for their hypertension.\n",
      "--------------------------------------------------\n"
     ]
    }
   ],
   "source": [
    "## Challenge\n",
    "agent_loop(max_iterations=15, system=system_prompt, query=\"What amount of medication should a pacient with 87kg take? He has diabetes, anemia and hypertension!\")\n"
   ]
  }
 ],
 "metadata": {
  "colab": {
   "provenance": []
  },
  "kernelspec": {
   "display_name": "Python 3",
   "name": "python3"
  },
  "language_info": {
   "name": "python"
  }
 },
 "nbformat": 4,
 "nbformat_minor": 0
}
